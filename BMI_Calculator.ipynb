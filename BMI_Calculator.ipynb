{
 "cells": [
  {
   "cell_type": "markdown",
   "metadata": {},
   "source": [
    "## Day 2.1: BMI Calculator"
   ]
  },
  {
   "cell_type": "code",
   "execution_count": null,
   "metadata": {},
   "outputs": [],
   "source": [
    "height = input(\"What is your height (in inches)?\\n\")\n",
    "print()\n",
    "weight = input(\"What is your weight (in lbs)?\\n\")\n",
    "print()\n",
    "\n",
    "bmi = float(weight) / (float(height) ** 2) * 703\n",
    "\n",
    "def group(bmi):\n",
    "    if bmi >= 30:\n",
    "        return \"obese\"\n",
    "    elif bmi >= 25:\n",
    "        return \"overweight\"\n",
    "    elif bmi >= 18.5:\n",
    "        return \"normal weight\"\n",
    "    else:\n",
    "        return \"underweight\"\n",
    "    \n",
    "print(f'Your BMI is {round(bmi, 2)}. You are considered {group(bmi)}.')"
   ]
  }
 ],
 "metadata": {
  "kernelspec": {
   "display_name": "Python 3",
   "language": "python",
   "name": "python3"
  },
  "language_info": {
   "codemirror_mode": {
    "name": "ipython",
    "version": 3
   },
   "file_extension": ".py",
   "mimetype": "text/x-python",
   "name": "python",
   "nbconvert_exporter": "python",
   "pygments_lexer": "ipython3",
   "version": "3.7.6"
  }
 },
 "nbformat": 4,
 "nbformat_minor": 4
}
